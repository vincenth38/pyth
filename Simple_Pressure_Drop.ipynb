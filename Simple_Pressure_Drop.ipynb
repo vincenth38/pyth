{
 "cells": [
  {
   "cell_type": "markdown",
   "id": "500227c3-c7b4-4f97-b948-8c9ef863d5c4",
   "metadata": {},
   "source": [
    "---\n",
    "title: Test NREL\n",
    "subtitle: Hydraulics calculations\n",
    "doi:\n",
    "license: Verne\n",
    "github: \n",
    "subject: Process Note\n",
    "venue: TSN1\n",
    "biblio:\n",
    "  volume: '1'\n",
    "  issue: '1'\n",
    "  date: '1/1/2023'\n",
    "  \n",
    "authors:\n",
    "  - name: Vincent Heloin\n",
    "    email: vincent.h@verneh2.com\n",
    "    corresponding: true\n",
    "\n",
    "jupytext:\n",
    "  formats: md:myst\n",
    "  text_representation:\n",
    "    extension: .md\n",
    "    format_name: myst\n",
    "kernelspec:\n",
    "  display_name: Python 3\n",
    "  language: python\n",
    "  name: python3\n",
    "\n",
    "---"
   ]
  },
  {
   "cell_type": "markdown",
   "id": "7bc35fd5-f2b1-499f-951b-48a5db4a3862",
   "metadata": {
    "tags": []
   },
   "source": [
    "# Initialize Functions"
   ]
  },
  {
   "cell_type": "markdown",
   "id": "d1966059-5ae8-4543-87d3-d8b4cdd56782",
   "metadata": {},
   "source": [
    "```{admonition} This one expand : click !\n",
    ":class: dropdown\n",
    "This is my note\n",
    "```"
   ]
  },
  {
   "cell_type": "code",
   "execution_count": 58,
   "id": "0e774b71-12ed-4132-8a0b-ac2650e447a5",
   "metadata": {
    "tags": []
   },
   "outputs": [],
   "source": [
    "%run Base_functions.ipynb"
   ]
  },
  {
   "cell_type": "markdown",
   "id": "dc1d1b21-8273-4f41-861c-33b6264b1d9e",
   "metadata": {},
   "source": [
    "```{note}\n",
    "Note\n",
    "```"
   ]
  },
  {
   "cell_type": "code",
   "execution_count": 59,
   "id": "55807974-2333-4f78-91a8-9002becc8317",
   "metadata": {
    "tags": []
   },
   "outputs": [],
   "source": [
    "dP_H_2 = dP_mbar(\n",
    "    m_gs= 10000/60, # 10 kg/h in g/s\n",
    "    DN_mm=6.7,\n",
    "    L_m=5,\n",
    "    Elbow_nb=10,\n",
    "    gas = \"hydrogen\",\n",
    "    P_bar= 350,\n",
    "    T_K = 300)\n"
   ]
  },
  {
   "cell_type": "code",
   "execution_count": 60,
   "id": "c39e70b3-f680-4341-9655-7895a8180ea3",
   "metadata": {
    "tags": []
   },
   "outputs": [
    {
     "data": {
      "text/latex": [
       "\\[\n",
       "\\begin{aligned}\n",
       "\\mathrm{dP}_{H_{2}} &= \\mathrm{147,886.99 millibar} \\; \n",
       "\\end{aligned}\n",
       "\\]"
      ],
      "text/plain": [
       "<IPython.core.display.Latex object>"
      ]
     },
     "metadata": {},
     "output_type": "display_data"
    }
   ],
   "source": [
    "%%render\n",
    "dP_H_2\n"
   ]
  },
  {
   "cell_type": "markdown",
   "id": "6cef33d1-ceac-4148-b101-64bd1473d95f",
   "metadata": {},
   "source": [
    "```python\n",
    "note = \"Python syntax highlighting\"\n",
    "print(note)\n",
    "```"
   ]
  },
  {
   "cell_type": "markdown",
   "id": "5a655f83-ed09-49ea-8b7f-28e7d3f8213d",
   "metadata": {},
   "source": [
    ":::{eval}expr\n",
    ":::\n",
    "\n",
    ":::{eval:figure} myplot\n",
    ":name: myplot\n",
    "My plot with a mean value of {eval}`mean`.\n",
    ":::"
   ]
  },
  {
   "cell_type": "code",
   "execution_count": 31,
   "id": "69fcf4fa-e5ed-4187-8224-9197b38309ee",
   "metadata": {
    "tags": []
   },
   "outputs": [
    {
     "data": {
      "text/latex": [
       "$\\displaystyle \\left( \\dot{m}_{H_2}, \\  d_{H_2}\\right)$"
      ],
      "text/plain": [
       "(\\dot{m}_{H_2}, d_{H_2})"
      ]
     },
     "execution_count": 31,
     "metadata": {},
     "output_type": "execute_result"
    }
   ],
   "source": [
    "# try sympy notation (should see a dot on top of the m)\n",
    "(m_H2,d_h2)=sp.symbols(\"\\dot{m}_{H_2},d_{H_2}\")\n",
    "m_H2,d_h2"
   ]
  },
  {
   "cell_type": "code",
   "execution_count": 32,
   "id": "932828fe-2380-4cad-9a62-79bc6de84496",
   "metadata": {
    "jupyter": {
     "source_hidden": true
    }
   },
   "outputs": [
    {
     "data": {
      "text/latex": [
       "$\\displaystyle 20$"
      ],
      "text/plain": [
       "20"
      ]
     },
     "execution_count": 32,
     "metadata": {},
     "output_type": "execute_result"
    }
   ],
   "source": [
    "# Define Masse flow\n",
    "m_H2 = 20 #*u('g/s')\n",
    "m_H2\n",
    "#Q_(m_He,'g/s')"
   ]
  },
  {
   "cell_type": "code",
   "execution_count": 33,
   "id": "fa647409-bdd5-4a57-9c5d-f2af27a2a3da",
   "metadata": {
    "jupyter": {
     "source_hidden": true
    }
   },
   "outputs": [
    {
     "data": {
      "text/latex": [
       "$\\displaystyle m_{H2} = 20$"
      ],
      "text/plain": [
       "m_H2 = 20"
      ]
     },
     "execution_count": 33,
     "metadata": {},
     "output_type": "execute_result"
    }
   ],
   "source": [
    "Eq(S('m_H2'), m_H2) # use of Eq and S from Sympy allows to display the equation, however, the use of handcalcs is much simpler even if some notation are not possible at the moment (dot on top of m for example)"
   ]
  },
  {
   "cell_type": "code",
   "execution_count": 34,
   "id": "54701234-6a99-4c53-a045-34456e018e8e",
   "metadata": {
    "jupyter": {
     "source_hidden": true
    }
   },
   "outputs": [],
   "source": [
    "#add units with pint, which would not work with sympy\n",
    "m_H2 = 20*u('g/s')\n"
   ]
  },
  {
   "cell_type": "code",
   "execution_count": 35,
   "id": "3dbcffe5-5b7a-4064-a46f-3e8379da053e",
   "metadata": {
    "jupyter": {
     "source_hidden": true
    }
   },
   "outputs": [
    {
     "data": {
      "text/latex": [
       "\\[\n",
       "\\begin{aligned}\n",
       "m_{H2} &= 20.000\\ \\frac{\\mathrm{gram}}{\\mathrm{second}} \\; \\;\\textrm{(Equation (1): Mass flow of $H_2$)}\n",
       "\\end{aligned}\n",
       "\\]"
      ],
      "text/plain": [
       "<IPython.core.display.Latex object>"
      ]
     },
     "metadata": {},
     "output_type": "display_data"
    }
   ],
   "source": [
    "%%render # use of handcalcs combined with pint and comment\n",
    "m_H2# Equation (1): Mass flow of $H_2$ \n"
   ]
  },
  {
   "cell_type": "code",
   "execution_count": 36,
   "id": "b691d249-0544-4a59-a653-03ca4fef86cb",
   "metadata": {
    "jupyter": {
     "source_hidden": true
    }
   },
   "outputs": [
    {
     "data": {
      "text/latex": [
       "\\[\n",
       "\\begin{aligned}\n",
       "d_{H_{2}} &= \\mathrm{PropsSI}  = <built-in function PropsSI> &= 0.081\\ \\frac{\\mathrm{kilogram}}{\\mathrm{meter}^{3}}  \n",
       "\\end{aligned}\n",
       "\\]"
      ],
      "text/plain": [
       "<IPython.core.display.Latex object>"
      ]
     },
     "metadata": {},
     "output_type": "display_data"
    }
   ],
   "source": [
    "%%render sympy\n",
    "d_H_2 = PropsSI(\"D\", \"P\", 1 * 100000, \"T\", 300, \"HEOS::\" + \"hydrogen\")*u('kg/m**3')"
   ]
  },
  {
   "cell_type": "code",
   "execution_count": 37,
   "id": "32cc8968-03c1-4a2d-9a37-d2ade4d4c220",
   "metadata": {
    "jupyter": {
     "source_hidden": true
    }
   },
   "outputs": [
    {
     "data": {
      "text/latex": [
       "\\[\n",
       "\\begin{aligned}\n",
       "\\mathrm{Qv} &= 72.000\\ \\frac{\\mathrm{kilogram}}{\\mathrm{hour}} \\; \n",
       "\\end{aligned}\n",
       "\\]"
      ],
      "text/plain": [
       "<IPython.core.display.Latex object>"
      ]
     },
     "metadata": {},
     "output_type": "display_data"
    }
   ],
   "source": [
    "%%render\n",
    "#convert flow from g/s to kg/h using pint\n",
    "Qv= Q_(m_H2,'kg/h')"
   ]
  },
  {
   "cell_type": "code",
   "execution_count": 38,
   "id": "e73336d7-225c-4583-8366-59dbe689c425",
   "metadata": {
    "jupyter": {
     "source_hidden": true
    }
   },
   "outputs": [
    {
     "data": {
      "text/latex": [
       "\\[\n",
       "\\begin{aligned}\n",
       "m_{H2} &= 3 \\;\n",
       "\\end{aligned}\n",
       "\\]"
      ],
      "text/plain": [
       "<IPython.core.display.Latex object>"
      ]
     },
     "metadata": {},
     "output_type": "display_data"
    }
   ],
   "source": [
    "%%render params\n",
    "m_H2 = 3"
   ]
  },
  {
   "cell_type": "code",
   "execution_count": null,
   "id": "84959adc-253a-4a30-a1c1-895d0a64b9cf",
   "metadata": {
    "jupyter": {
     "source_hidden": true
    }
   },
   "outputs": [],
   "source": []
  },
  {
   "cell_type": "code",
   "execution_count": null,
   "id": "1e058c50-717c-46c1-835c-c8d4eb13eab4",
   "metadata": {
    "jupyter": {
     "source_hidden": true
    }
   },
   "outputs": [],
   "source": []
  },
  {
   "cell_type": "code",
   "execution_count": null,
   "id": "8fce8f53-2770-4e72-bf67-b103853ac8f4",
   "metadata": {
    "jupyter": {
     "source_hidden": true
    }
   },
   "outputs": [],
   "source": []
  },
  {
   "cell_type": "code",
   "execution_count": null,
   "id": "fa1da4fc-6e0d-45b7-ad00-130272a2f62b",
   "metadata": {
    "jupyter": {
     "source_hidden": true
    },
    "tags": []
   },
   "outputs": [],
   "source": []
  }
 ],
 "metadata": {
  "celltoolbar": "Attachments",
  "kernelspec": {
   "display_name": "Python 3 (ipykernel)",
   "language": "python",
   "name": "python3"
  },
  "language_info": {
   "codemirror_mode": {
    "name": "ipython",
    "version": 3
   },
   "file_extension": ".py",
   "mimetype": "text/x-python",
   "name": "python",
   "nbconvert_exporter": "python",
   "pygments_lexer": "ipython3",
   "version": "3.11.0"
  },
  "toc-autonumbering": true,
  "toc-showcode": false,
  "toc-showmarkdowntxt": false,
  "toc-showtags": true
 },
 "nbformat": 4,
 "nbformat_minor": 5
}
